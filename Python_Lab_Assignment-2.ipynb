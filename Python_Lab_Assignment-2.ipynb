{
 "cells": [
  {
   "cell_type": "markdown",
   "metadata": {},
   "source": [
    "# PyCity Schools Analysis\n",
    "\n",
    "* As a whole, schools with higher budgets, did not yield better test results. By contrast, schools with higher spending per student actually (\\\\$645 - 675) underperformed compared to schools with smaller budgets (\\\\$585 per student).\n",
    "\n",
    "* As a whole, smaller and medium sized schools dramatically out-performed large sized schools on passing math performances (89-91% passing vs 67%).\n",
    "\n",
    "* As a whole, charter schools out-performed the public district schools across all metrics. However, more analysis will be required to glean if the effect is due to school practices or the fact that charter schools tend to serve smaller student populations per school. \n",
    "---"
   ]
  },
  {
   "cell_type": "markdown",
   "metadata": {},
   "source": [
    "**Note:**\n",
    "Instructions have been included for each segment. You do not have to follow them exactly, but they are included to help you think through the steps."
   ]
  },
  {
   "cell_type": "code",
   "execution_count": 5,
   "metadata": {
    "ExecuteTime": {
     "end_time": "2022-08-06T06:08:31.925112Z",
     "start_time": "2022-08-06T06:08:29.337754Z"
    }
   },
   "outputs": [],
   "source": [
    "# Dependencies and Setup\n",
    "import pandas as pd\n",
    "import numpy as np\n",
    "import sqlite3\n",
    "\n",
    "# loading data from python.db database\n",
    "con = sqlite3.connect('data/python.db')\n",
    "\n",
    "# Read 'school' and 'student' tables into pandas dataframe\n",
    "school_data = pd.read_sql_query(\"SELECT * FROM school\", con)\n",
    "student_data = pd.read_sql_query(\"SELECT * FROM student\", con)\n"
   ]
  },
  {
   "cell_type": "code",
   "execution_count": 7,
   "metadata": {},
   "outputs": [
    {
     "data": {
      "text/html": [
       "<div>\n",
       "<style scoped>\n",
       "    .dataframe tbody tr th:only-of-type {\n",
       "        vertical-align: middle;\n",
       "    }\n",
       "\n",
       "    .dataframe tbody tr th {\n",
       "        vertical-align: top;\n",
       "    }\n",
       "\n",
       "    .dataframe thead th {\n",
       "        text-align: right;\n",
       "    }\n",
       "</style>\n",
       "<table border=\"1\" class=\"dataframe\">\n",
       "  <thead>\n",
       "    <tr style=\"text-align: right;\">\n",
       "      <th></th>\n",
       "      <th>id_x</th>\n",
       "      <th>Student ID</th>\n",
       "      <th>student_name</th>\n",
       "      <th>gender</th>\n",
       "      <th>grade</th>\n",
       "      <th>school_name</th>\n",
       "      <th>reading_score</th>\n",
       "      <th>math_score</th>\n",
       "      <th>id_y</th>\n",
       "      <th>School ID</th>\n",
       "      <th>type</th>\n",
       "      <th>size</th>\n",
       "      <th>budget</th>\n",
       "    </tr>\n",
       "  </thead>\n",
       "  <tbody>\n",
       "    <tr>\n",
       "      <th>0</th>\n",
       "      <td>0</td>\n",
       "      <td>0</td>\n",
       "      <td>Paul Bradley</td>\n",
       "      <td>M</td>\n",
       "      <td>9th</td>\n",
       "      <td>Huang High School</td>\n",
       "      <td>66</td>\n",
       "      <td>79</td>\n",
       "      <td>0</td>\n",
       "      <td>0</td>\n",
       "      <td>District</td>\n",
       "      <td>2917</td>\n",
       "      <td>1910635</td>\n",
       "    </tr>\n",
       "    <tr>\n",
       "      <th>1</th>\n",
       "      <td>1</td>\n",
       "      <td>1</td>\n",
       "      <td>Victor Smith</td>\n",
       "      <td>M</td>\n",
       "      <td>12th</td>\n",
       "      <td>Huang High School</td>\n",
       "      <td>94</td>\n",
       "      <td>61</td>\n",
       "      <td>0</td>\n",
       "      <td>0</td>\n",
       "      <td>District</td>\n",
       "      <td>2917</td>\n",
       "      <td>1910635</td>\n",
       "    </tr>\n",
       "    <tr>\n",
       "      <th>2</th>\n",
       "      <td>2</td>\n",
       "      <td>2</td>\n",
       "      <td>Kevin Rodriguez</td>\n",
       "      <td>M</td>\n",
       "      <td>12th</td>\n",
       "      <td>Huang High School</td>\n",
       "      <td>90</td>\n",
       "      <td>60</td>\n",
       "      <td>0</td>\n",
       "      <td>0</td>\n",
       "      <td>District</td>\n",
       "      <td>2917</td>\n",
       "      <td>1910635</td>\n",
       "    </tr>\n",
       "    <tr>\n",
       "      <th>3</th>\n",
       "      <td>3</td>\n",
       "      <td>3</td>\n",
       "      <td>Dr. Richard Scott</td>\n",
       "      <td>M</td>\n",
       "      <td>12th</td>\n",
       "      <td>Huang High School</td>\n",
       "      <td>67</td>\n",
       "      <td>58</td>\n",
       "      <td>0</td>\n",
       "      <td>0</td>\n",
       "      <td>District</td>\n",
       "      <td>2917</td>\n",
       "      <td>1910635</td>\n",
       "    </tr>\n",
       "    <tr>\n",
       "      <th>4</th>\n",
       "      <td>4</td>\n",
       "      <td>4</td>\n",
       "      <td>Bonnie Ray</td>\n",
       "      <td>F</td>\n",
       "      <td>9th</td>\n",
       "      <td>Huang High School</td>\n",
       "      <td>97</td>\n",
       "      <td>84</td>\n",
       "      <td>0</td>\n",
       "      <td>0</td>\n",
       "      <td>District</td>\n",
       "      <td>2917</td>\n",
       "      <td>1910635</td>\n",
       "    </tr>\n",
       "  </tbody>\n",
       "</table>\n",
       "</div>"
      ],
      "text/plain": [
       "   id_x  Student ID       student_name gender grade        school_name  \\\n",
       "0     0           0       Paul Bradley      M   9th  Huang High School   \n",
       "1     1           1       Victor Smith      M  12th  Huang High School   \n",
       "2     2           2    Kevin Rodriguez      M  12th  Huang High School   \n",
       "3     3           3  Dr. Richard Scott      M  12th  Huang High School   \n",
       "4     4           4         Bonnie Ray      F   9th  Huang High School   \n",
       "\n",
       "   reading_score  math_score  id_y  School ID      type  size   budget  \n",
       "0             66          79     0          0  District  2917  1910635  \n",
       "1             94          61     0          0  District  2917  1910635  \n",
       "2             90          60     0          0  District  2917  1910635  \n",
       "3             67          58     0          0  District  2917  1910635  \n",
       "4             97          84     0          0  District  2917  1910635  "
      ]
     },
     "execution_count": 7,
     "metadata": {},
     "output_type": "execute_result"
    }
   ],
   "source": [
    "# Combine the data into a single dataset\n",
    "school_data_complete = pd.merge(student_data, school_data, how=\"left\", on=[\"school_name\", \"school_name\"])\n",
    "school_data_complete.head()"
   ]
  },
  {
   "cell_type": "markdown",
   "metadata": {},
   "source": [
    "## District Summary\n",
    "\n",
    "* Calculate the total number of schools\n",
    "\n",
    "* Calculate the total number of students\n",
    "\n",
    "* Calculate the total budget\n",
    "\n",
    "* Calculate the average math score \n",
    "\n",
    "* Calculate the average reading score\n",
    "\n",
    "* Calculate the overall passing rate (overall average score), i.e. (avg. math score + avg. reading score)/2\n",
    "\n",
    "* Calculate the percentage of students with a passing math score (70 or greater)\n",
    "\n",
    "* Calculate the percentage of students with a passing reading score (70 or greater)\n",
    "\n",
    "* Create a dataframe to hold the above results\n",
    "\n",
    "* Optional: give the displayed data cleaner formatting"
   ]
  },
  {
   "cell_type": "code",
   "execution_count": 167,
   "metadata": {},
   "outputs": [],
   "source": [
    "# Total number of schools\n",
    "school_count = school_data['School ID'].count()\n",
    "\n"
   ]
  },
  {
   "cell_type": "code",
   "execution_count": 169,
   "metadata": {},
   "outputs": [],
   "source": [
    "# Total number of students\n",
    "dist_student_count = student_data['Student ID'].count()\n",
    "\n"
   ]
  },
  {
   "cell_type": "code",
   "execution_count": 171,
   "metadata": {},
   "outputs": [],
   "source": [
    "# Total budget\n",
    "total_budget = school_data['budget'].sum()\n",
    "\n"
   ]
  },
  {
   "cell_type": "code",
   "execution_count": 173,
   "metadata": {},
   "outputs": [],
   "source": [
    "# Average reading score\n",
    "avg_reading_score = student_data['reading_score'].mean()\n",
    "\n"
   ]
  },
  {
   "cell_type": "code",
   "execution_count": 175,
   "metadata": {},
   "outputs": [],
   "source": [
    "# Average math score\n",
    "avg_math_score = student_data['math_score'].mean()\n",
    "\n",
    "\n"
   ]
  },
  {
   "cell_type": "code",
   "execution_count": 177,
   "metadata": {},
   "outputs": [],
   "source": [
    "# Percentage of passing math (70 or greater)\n",
    "num_passing_math = student_data[student_data['math_score'] >= 70]['Student ID'].count()\n",
    "\n"
   ]
  },
  {
   "cell_type": "code",
   "execution_count": 179,
   "metadata": {},
   "outputs": [],
   "source": [
    "#omg i think this one works now..here i will calc the # of students with a passing math score\n",
    "perc_pass_math = (num_passing_math / dist_student_count) * 100"
   ]
  },
  {
   "cell_type": "code",
   "execution_count": 181,
   "metadata": {},
   "outputs": [],
   "source": [
    "# Calculate the number of students with a passing reading score (70 or greater)\n",
    "num_passing_reading = student_data[student_data['reading_score'] >= 70]['Student ID'].count()"
   ]
  },
  {
   "cell_type": "code",
   "execution_count": 183,
   "metadata": {},
   "outputs": [],
   "source": [
    "# Calculate the percentage of students with a passing reading score\n",
    "perc_pass_reading = (num_passing_reading / dist_student_count) * 100"
   ]
  },
  {
   "cell_type": "code",
   "execution_count": 185,
   "metadata": {},
   "outputs": [],
   "source": [
    "# Calculate the overall passing rate (average of the percentage passing math and reading)\n",
    "overall_pass = (perc_pass_math + perc_pass_reading) / 2"
   ]
  },
  {
   "cell_type": "code",
   "execution_count": 187,
   "metadata": {},
   "outputs": [
    {
     "name": "stdout",
     "output_type": "stream",
     "text": [
      "   Total Schools  Total Students  Total Budget  Average Reading Score  \\\n",
      "0             15           39170      24649428               81.87784   \n",
      "\n",
      "   Average Math Score  % Passing Reading  % Passing Math  Overall Passing Rate  \n",
      "0           78.985371          85.805463       74.980853             80.393158  \n"
     ]
    }
   ],
   "source": [
    "# Create a District Summary\n",
    "district_summary = pd.DataFrame({\n",
    "    \"Total Schools\": [school_count],\n",
    "    \"Total Students\": [dist_student_count],\n",
    "    \"Total Budget\": [total_budget],\n",
    "    \"Average Reading Score\": [avg_reading_score],\n",
    "    \"Average Math Score\": [avg_math_score],\n",
    "    \"% Passing Reading\": [perc_pass_reading],\n",
    "    \"% Passing Math\": [perc_pass_math],\n",
    "    \"Overall Passing Rate\": [overall_pass]\n",
    "})\n",
    "\n",
    "# Display the dataframe\n",
    "print(district_summary)\n",
    "\n"
   ]
  },
  {
   "cell_type": "markdown",
   "metadata": {},
   "source": [
    "## School Summary"
   ]
  },
  {
   "cell_type": "markdown",
   "metadata": {},
   "source": [
    "* Create an overview table that summarizes key metrics about each school, including:\n",
    "  * School Name\n",
    "  * School Type\n",
    "  * Total Students\n",
    "  * Total School Budget\n",
    "  * Per Student Budget\n",
    "  * Average Math Score\n",
    "  * Average Reading Score\n",
    "  * % Passing Math\n",
    "  * % Passing Reading\n",
    "  * Overall Passing Rate (Average of the above two)\n",
    "  \n",
    "* Create a dataframe to hold the above results"
   ]
  },
  {
   "cell_type": "markdown",
   "metadata": {},
   "source": [
    "### Top Performing Schools (By Passing Rate)"
   ]
  },
  {
   "cell_type": "markdown",
   "metadata": {},
   "source": [
    "* Sort and display the top five schools in overall passing rate"
   ]
  },
  {
   "cell_type": "code",
   "execution_count": 151,
   "metadata": {},
   "outputs": [],
   "source": [
    "#  Sort and display the top five schools in overall passing rate)\n",
    "# 6. Calculate overall passing rate per school\n",
    "\n",
    "   \n"
   ]
  },
  {
   "cell_type": "code",
   "execution_count": 153,
   "metadata": {
    "scrolled": true
   },
   "outputs": [],
   "source": [
    "# Calculate total school budget\n",
    "\n"
   ]
  },
  {
   "cell_type": "code",
   "execution_count": 157,
   "metadata": {},
   "outputs": [],
   "source": [
    "# Calculate per student budget\n",
    "\n",
    "\n"
   ]
  },
  {
   "cell_type": "code",
   "execution_count": null,
   "metadata": {},
   "outputs": [],
   "source": [
    "# Cacluate the avg math and reading score\n",
    "\n",
    "\n"
   ]
  },
  {
   "cell_type": "markdown",
   "metadata": {},
   "source": [
    "#### Find the passing rate for math and reading (above 70 points)"
   ]
  },
  {
   "cell_type": "code",
   "execution_count": null,
   "metadata": {},
   "outputs": [],
   "source": [
    "# Find the total counts of math result\n",
    "\n",
    "\n",
    "# Find the counts for math result in each school that pass 70 or higher\n",
    "\n",
    "\n",
    "# Calculate the math passing rate\n",
    "\n",
    "\n"
   ]
  },
  {
   "cell_type": "code",
   "execution_count": null,
   "metadata": {},
   "outputs": [],
   "source": [
    "# Find the total counts of read result\n",
    "\n",
    "\n",
    "# Find the counts for read result in each school that pass 70 or higher\n",
    "\n",
    "\n",
    "# Calculate the read passing rate\n",
    "\n"
   ]
  },
  {
   "cell_type": "code",
   "execution_count": null,
   "metadata": {},
   "outputs": [],
   "source": [
    "# Calculate the overall passing rate (average of the math and reading passing rate)\n",
    "\n",
    "\n"
   ]
  },
  {
   "cell_type": "code",
   "execution_count": null,
   "metadata": {},
   "outputs": [],
   "source": []
  },
  {
   "cell_type": "code",
   "execution_count": null,
   "metadata": {},
   "outputs": [],
   "source": []
  },
  {
   "cell_type": "code",
   "execution_count": null,
   "metadata": {},
   "outputs": [],
   "source": []
  },
  {
   "cell_type": "markdown",
   "metadata": {},
   "source": [
    "### Bottom Performing Schools (By Passing Rate)"
   ]
  },
  {
   "cell_type": "markdown",
   "metadata": {},
   "source": [
    "* Sort and display the five worst-performing schools"
   ]
  },
  {
   "cell_type": "code",
   "execution_count": null,
   "metadata": {},
   "outputs": [],
   "source": [
    "#  Sort and display the worst five schools in overall passing rate\n",
    "\n",
    "\n"
   ]
  },
  {
   "cell_type": "markdown",
   "metadata": {
    "collapsed": true,
    "jupyter": {
     "outputs_hidden": true
    }
   },
   "source": [
    "## Math Scores by Grade"
   ]
  },
  {
   "cell_type": "markdown",
   "metadata": {},
   "source": [
    "* Create a table that lists the average Reading Score for students of each grade level (9th, 10th, 11th, 12th) at each school.\n",
    "\n",
    "  * Create a pandas series for each grade. Hint: use a conditional statement.\n",
    "  \n",
    "  * Group each series by school\n",
    "  \n",
    "  * Combine the series into a dataframe\n",
    "  \n",
    "  * Optional: give the displayed data cleaner formatting"
   ]
  },
  {
   "cell_type": "code",
   "execution_count": 104,
   "metadata": {},
   "outputs": [
    {
     "name": "stdout",
     "output_type": "stream",
     "text": [
      "school_name\n",
      "Bailey High School       77.083676\n",
      "Cabrera High School      83.094697\n",
      "Figueroa High School     76.403037\n",
      "Ford High School         77.361345\n",
      "Griffin High School      82.044010\n",
      "Hernandez High School    77.438495\n",
      "Holden High School       83.787402\n",
      "Huang High School        77.027251\n",
      "Johnson High School      77.187857\n",
      "Pena High School         83.625455\n",
      "Rodriguez High School    76.859966\n",
      "Shelton High School      83.420755\n",
      "Thomas High School       83.590022\n",
      "Wilson High School       83.085578\n",
      "Wright High School       83.264706\n",
      "Name: math_score, dtype: float64\n"
     ]
    }
   ],
   "source": [
    "# Calculate the average math score for 9th grade in each school\n",
    "grade_9th_data = student_data[student_data['grade'] == '9th']\n",
    "\n",
    "avg_math_score_9th = grade_9th_data.groupby('school_name')['math_score'].mean()\n",
    "\n",
    "print(avg_math_score_9th)\n",
    "\n"
   ]
  },
  {
   "cell_type": "code",
   "execution_count": 106,
   "metadata": {},
   "outputs": [
    {
     "name": "stdout",
     "output_type": "stream",
     "text": [
      "school_name\n",
      "Bailey High School       76.996772\n",
      "Cabrera High School      83.154506\n",
      "Figueroa High School     76.539974\n",
      "Ford High School         77.672316\n",
      "Griffin High School      84.229064\n",
      "Hernandez High School    77.337408\n",
      "Holden High School       83.429825\n",
      "Huang High School        75.908735\n",
      "Johnson High School      76.691117\n",
      "Pena High School         83.372000\n",
      "Rodriguez High School    76.612500\n",
      "Shelton High School      82.917411\n",
      "Thomas High School       83.087886\n",
      "Wilson High School       83.724422\n",
      "Wright High School       84.010288\n",
      "Name: math_score, dtype: float64\n"
     ]
    }
   ],
   "source": [
    "# Calculate the average math score for 10th grade in each school\n",
    "grade_10th_data = student_data[student_data['grade'] == '10th']\n",
    "\n",
    "avg_math_score_10th = grade_10th_data.groupby('school_name')['math_score'].mean()\n",
    "\n",
    "print(avg_math_score_10th)\n",
    "\n"
   ]
  },
  {
   "cell_type": "code",
   "execution_count": 114,
   "metadata": {},
   "outputs": [
    {
     "name": "stdout",
     "output_type": "stream",
     "text": [
      "school_name\n",
      "Bailey High School       77.515588\n",
      "Cabrera High School      82.765560\n",
      "Figueroa High School     76.884344\n",
      "Ford High School         76.918058\n",
      "Griffin High School      83.842105\n",
      "Hernandez High School    77.136029\n",
      "Holden High School       85.000000\n",
      "Huang High School        76.446602\n",
      "Johnson High School      77.491653\n",
      "Pena High School         84.328125\n",
      "Rodriguez High School    76.395626\n",
      "Shelton High School      83.383495\n",
      "Thomas High School       83.498795\n",
      "Wilson High School       83.195326\n",
      "Wright High School       83.836782\n",
      "Name: math_score, dtype: float64\n"
     ]
    }
   ],
   "source": [
    "# Calculate the average math score for 11th grade in each school\n",
    "grade_11th_data = student_data[student_data['grade'] == '11th']\n",
    "\n",
    "avg_math_score_11th = grade_11th_data.groupby('school_name')['math_score'].mean()\n",
    "\n",
    "print(avg_math_score_11th)\n",
    "\n"
   ]
  },
  {
   "cell_type": "code",
   "execution_count": 118,
   "metadata": {},
   "outputs": [
    {
     "name": "stdout",
     "output_type": "stream",
     "text": [
      "school_name\n",
      "Bailey High School       76.492218\n",
      "Cabrera High School      83.277487\n",
      "Figueroa High School     77.151369\n",
      "Ford High School         76.179963\n",
      "Griffin High School      83.356164\n",
      "Hernandez High School    77.186567\n",
      "Holden High School       82.855422\n",
      "Huang High School        77.225641\n",
      "Johnson High School      76.863248\n",
      "Pena High School         84.121547\n",
      "Rodriguez High School    77.690748\n",
      "Shelton High School      83.778976\n",
      "Thomas High School       83.497041\n",
      "Wilson High School       83.035794\n",
      "Wright High School       83.644986\n",
      "Name: math_score, dtype: float64\n"
     ]
    }
   ],
   "source": [
    "# Calculate the average math score for 12th grade in each school\n",
    "grade_12th_data = student_data[student_data['grade'] == '12th']\n",
    "\n",
    "avg_math_score_12th = grade_12th_data.groupby('school_name')['math_score'].mean()\n",
    "\n",
    "print(avg_math_score_12th)\n",
    "\n"
   ]
  },
  {
   "cell_type": "code",
   "execution_count": 125,
   "metadata": {},
   "outputs": [
    {
     "name": "stdout",
     "output_type": "stream",
     "text": [
      "                       9th Grade  10th Grade  11th Grade  12th Grade\n",
      "school_name                                                         \n",
      "Bailey High School          77.0        77.0        78.0        76.0\n",
      "Cabrera High School         83.0        83.0        83.0        83.0\n",
      "Figueroa High School        76.0        77.0        77.0        77.0\n",
      "Ford High School            77.0        78.0        77.0        76.0\n",
      "Griffin High School         82.0        84.0        84.0        83.0\n",
      "Hernandez High School       77.0        77.0        77.0        77.0\n",
      "Holden High School          84.0        83.0        85.0        83.0\n",
      "Huang High School           77.0        76.0        76.0        77.0\n",
      "Johnson High School         77.0        77.0        77.0        77.0\n",
      "Pena High School            84.0        83.0        84.0        84.0\n",
      "Rodriguez High School       77.0        77.0        76.0        78.0\n",
      "Shelton High School         83.0        83.0        83.0        84.0\n",
      "Thomas High School          84.0        83.0        83.0        83.0\n",
      "Wilson High School          83.0        84.0        83.0        83.0\n",
      "Wright High School          83.0        84.0        84.0        84.0\n"
     ]
    }
   ],
   "source": [
    "avg_math_score_9th = student_data.loc[student_data['grade'] == '9th'].groupby('school_name')['math_score'].mean()\n",
    "avg_math_score_10th = student_data.loc[student_data['grade'] == '10th'].groupby('school_name')['math_score'].mean()\n",
    "avg_math_score_11th = student_data.loc[student_data['grade'] == '11th'].groupby('school_name')['math_score'].mean()\n",
    "avg_math_score_12th = student_data.loc[student_data['grade'] == '12th'].groupby('school_name')['math_score'].mean()\n",
    "\n",
    "#here I am creating my combied data frame for my series\n",
    "math_scores_by_grade = pd.DataFrame({\n",
    "    '9th Grade': avg_math_score_9th,\n",
    "    '10th Grade': avg_math_score_10th,\n",
    "    '11th Grade': avg_math_score_11th,\n",
    "    '12th Grade': avg_math_score_12th\n",
    "})\n",
    "\n",
    "# orginal code displayed %s with 6 decimal places\n",
    "# My line of code below will round to the nearest whole # for a neater look\n",
    "math_scores_by_grade = math_scores_by_grade.round(0)\n",
    "\n",
    "#can we go over how to add boarders to tables in class? might be out of our scope\n",
    "\n",
    "\n",
    "# display my table (hopefully :((\n",
    "print(math_scores_by_grade)\n",
    "\n",
    "#yay\n"
   ]
  },
  {
   "cell_type": "markdown",
   "metadata": {},
   "source": [
    "### Reading Score by Grade "
   ]
  },
  {
   "cell_type": "markdown",
   "metadata": {},
   "source": [
    "* Perform the same operations as above for reading scores"
   ]
  },
  {
   "cell_type": "code",
   "execution_count": 191,
   "metadata": {},
   "outputs": [
    {
     "name": "stdout",
     "output_type": "stream",
     "text": [
      "school_name\n",
      "Bailey High School       81.303155\n",
      "Cabrera High School      83.676136\n",
      "Figueroa High School     81.198598\n",
      "Ford High School         80.632653\n",
      "Griffin High School      83.369193\n",
      "Hernandez High School    80.866860\n",
      "Holden High School       83.677165\n",
      "Huang High School        81.290284\n",
      "Johnson High School      81.260714\n",
      "Pena High School         83.807273\n",
      "Rodriguez High School    80.993127\n",
      "Shelton High School      84.122642\n",
      "Thomas High School       83.728850\n",
      "Wilson High School       83.939778\n",
      "Wright High School       83.833333\n",
      "Name: reading_score, dtype: float64\n"
     ]
    }
   ],
   "source": [
    "# Calculate the average reading score for 9th grade in each school\n",
    "grade_9th_data = student_data[student_data['grade'] == '9th']\n",
    "\n",
    "avg_reading_score_9th = grade_9th_data.groupby('school_name')['reading_score'].mean()\n",
    "\n",
    "print(avg_reading_score_9th)\n",
    "\n",
    "\n"
   ]
  },
  {
   "cell_type": "code",
   "execution_count": 193,
   "metadata": {},
   "outputs": [
    {
     "name": "stdout",
     "output_type": "stream",
     "text": [
      "school_name\n",
      "Bailey High School       80.907183\n",
      "Cabrera High School      84.253219\n",
      "Figueroa High School     81.408912\n",
      "Ford High School         81.262712\n",
      "Griffin High School      83.706897\n",
      "Hernandez High School    80.660147\n",
      "Holden High School       83.324561\n",
      "Huang High School        81.512386\n",
      "Johnson High School      80.773431\n",
      "Pena High School         83.612000\n",
      "Rodriguez High School    80.629808\n",
      "Shelton High School      83.441964\n",
      "Thomas High School       84.254157\n",
      "Wilson High School       84.021452\n",
      "Wright High School       83.812757\n",
      "Name: reading_score, dtype: float64\n"
     ]
    }
   ],
   "source": [
    "# Calculate the average reading score for 10th grade in each school\n",
    "grade_10th_data = student_data[student_data['grade'] == '10th']\n",
    "\n",
    "avg_reading_score_10th = grade_10th_data.groupby('school_name')['reading_score'].mean()\n",
    "\n",
    "print(avg_reading_score_10th)\n",
    "\n"
   ]
  },
  {
   "cell_type": "code",
   "execution_count": 195,
   "metadata": {},
   "outputs": [
    {
     "name": "stdout",
     "output_type": "stream",
     "text": [
      "school_name\n",
      "Bailey High School       80.945643\n",
      "Cabrera High School      83.788382\n",
      "Figueroa High School     80.640339\n",
      "Ford High School         80.403642\n",
      "Griffin High School      84.288089\n",
      "Hernandez High School    81.396140\n",
      "Holden High School       83.815534\n",
      "Huang High School        81.417476\n",
      "Johnson High School      80.616027\n",
      "Pena High School         84.335938\n",
      "Rodriguez High School    80.864811\n",
      "Shelton High School      84.373786\n",
      "Thomas High School       83.585542\n",
      "Wilson High School       83.764608\n",
      "Wright High School       84.156322\n",
      "Name: reading_score, dtype: float64\n"
     ]
    }
   ],
   "source": [
    "# Calculate the average reading score for 11th grade in each school\n",
    "grade_11th_data = student_data[student_data['grade'] == '11th']\n",
    "\n",
    "avg_reading_score_11th = grade_11th_data.groupby('school_name')['reading_score'].mean()\n",
    "\n",
    "print(avg_reading_score_11th)\n",
    "\n"
   ]
  },
  {
   "cell_type": "code",
   "execution_count": 197,
   "metadata": {},
   "outputs": [
    {
     "name": "stdout",
     "output_type": "stream",
     "text": [
      "school_name\n",
      "Bailey High School       80.912451\n",
      "Cabrera High School      84.287958\n",
      "Figueroa High School     81.384863\n",
      "Ford High School         80.662338\n",
      "Griffin High School      84.013699\n",
      "Hernandez High School    80.857143\n",
      "Holden High School       84.698795\n",
      "Huang High School        80.305983\n",
      "Johnson High School      81.227564\n",
      "Pena High School         84.591160\n",
      "Rodriguez High School    80.376426\n",
      "Shelton High School      82.781671\n",
      "Thomas High School       83.831361\n",
      "Wilson High School       84.317673\n",
      "Wright High School       84.073171\n",
      "Name: reading_score, dtype: float64\n"
     ]
    }
   ],
   "source": [
    "# Calculate the average reading score for 12th grade in each school\n",
    "grade_12th_data = student_data[student_data['grade'] == '12th']\n",
    "\n",
    "avg_reading_score_12th = grade_12th_data.groupby('school_name')['reading_score'].mean()\n",
    "\n",
    "print(avg_reading_score_12th)\n",
    "\n"
   ]
  },
  {
   "cell_type": "code",
   "execution_count": 201,
   "metadata": {},
   "outputs": [
    {
     "name": "stdout",
     "output_type": "stream",
     "text": [
      "                       9th Grade  10th Grade  11th Grade  12th Grade\n",
      "school_name                                                         \n",
      "Bailey High School          81.0        81.0        81.0        81.0\n",
      "Cabrera High School         84.0        84.0        84.0        84.0\n",
      "Figueroa High School        81.0        81.0        81.0        81.0\n",
      "Ford High School            81.0        81.0        80.0        81.0\n",
      "Griffin High School         83.0        84.0        84.0        84.0\n",
      "Hernandez High School       81.0        81.0        81.0        81.0\n",
      "Holden High School          84.0        83.0        84.0        85.0\n",
      "Huang High School           81.0        82.0        81.0        80.0\n",
      "Johnson High School         81.0        81.0        81.0        81.0\n",
      "Pena High School            84.0        84.0        84.0        85.0\n",
      "Rodriguez High School       81.0        81.0        81.0        80.0\n",
      "Shelton High School         84.0        83.0        84.0        83.0\n",
      "Thomas High School          84.0        84.0        84.0        84.0\n",
      "Wilson High School          84.0        84.0        84.0        84.0\n",
      "Wright High School          84.0        84.0        84.0        84.0\n"
     ]
    }
   ],
   "source": [
    "avg_reading_score_9th = student_data.loc[student_data['grade'] == '9th'].groupby('school_name')['reading_score'].mean()\n",
    "avg_reading_score_10th = student_data.loc[student_data['grade'] == '10th'].groupby('school_name')['reading_score'].mean()\n",
    "avg_reading_11th = student_data.loc[student_data['grade'] == '11th'].groupby('school_name')['reading_score'].mean()\n",
    "avg_reading_score_12th = student_data.loc[student_data['grade'] == '12th'].groupby('school_name')['reading_score'].mean()\n",
    "\n",
    "\n",
    "reading_scores_by_grade = pd.DataFrame({\n",
    "    '9th Grade': avg_reading_score_9th,\n",
    "    '10th Grade': avg_reading_score_10th,\n",
    "    '11th Grade': avg_reading_score_11th,\n",
    "    '12th Grade': avg_reading_score_12th\n",
    "})\n",
    "\n",
    "reading_scores_by_grade = reading_scores_by_grade.round(0)\n",
    "\n",
    "print(reading_scores_by_grade)\n",
    "\n",
    "\n"
   ]
  },
  {
   "cell_type": "code",
   "execution_count": 197,
   "metadata": {},
   "outputs": [
    {
     "name": "stdout",
     "output_type": "stream",
     "text": [
      "school_name\n",
      "Bailey High School       80.912451\n",
      "Cabrera High School      84.287958\n",
      "Figueroa High School     81.384863\n",
      "Ford High School         80.662338\n",
      "Griffin High School      84.013699\n",
      "Hernandez High School    80.857143\n",
      "Holden High School       84.698795\n",
      "Huang High School        80.305983\n",
      "Johnson High School      81.227564\n",
      "Pena High School         84.591160\n",
      "Rodriguez High School    80.376426\n",
      "Shelton High School      82.781671\n",
      "Thomas High School       83.831361\n",
      "Wilson High School       84.317673\n",
      "Wright High School       84.073171\n",
      "Name: reading_score, dtype: float64\n"
     ]
    }
   ],
   "source": [
    "# Calculate the average reading score for 12th grade in each school\n",
    "grade_12th_data = student_data[student_data['grade'] == '12th']\n",
    "\n",
    "avg_reading_score_12th = grade_12th_data.groupby('school_name')['reading_score'].mean()\n",
    "\n",
    "print(avg_reading_score_12th)\n",
    "\n"
   ]
  },
  {
   "cell_type": "markdown",
   "metadata": {},
   "source": [
    "## Scores by School Spending"
   ]
  },
  {
   "cell_type": "markdown",
   "metadata": {},
   "source": [
    "* Create a table that breaks down school performances based on average Spending Ranges (Per Student). Use 4 reasonable bins to group school spending. Include in the table each of the following:\n",
    "  * Average Math Score\n",
    "  * Average Reading Score\n",
    "  * % Passing Math\n",
    "  * % Passing Reading\n",
    "  * Overall Passing Rate (Average of the above two)"
   ]
  },
  {
   "cell_type": "code",
   "execution_count": 205,
   "metadata": {},
   "outputs": [],
   "source": [
    "# Sample bins. Feel free to create your own bins.\n",
    "spending_bins = [0, 585, 615, 645, 675]\n",
    "group_names = [\"<$585\", \"$585-615\", \"$615-645\", \"$645-675\"]"
   ]
  },
  {
   "cell_type": "code",
   "execution_count": null,
   "metadata": {},
   "outputs": [],
   "source": []
  },
  {
   "cell_type": "code",
   "execution_count": 207,
   "metadata": {},
   "outputs": [
    {
     "ename": "NameError",
     "evalue": "name 'per_school_summary' is not defined",
     "output_type": "error",
     "traceback": [
      "\u001b[0;31m---------------------------------------------------------------------------\u001b[0m",
      "\u001b[0;31mNameError\u001b[0m                                 Traceback (most recent call last)",
      "Cell \u001b[0;32mIn[207], line 1\u001b[0m\n\u001b[0;32m----> 1\u001b[0m school_spending_df \u001b[38;5;241m=\u001b[39m per_school_summary\u001b[38;5;241m.\u001b[39mcopy()\n",
      "\u001b[0;31mNameError\u001b[0m: name 'per_school_summary' is not defined"
     ]
    }
   ],
   "source": [
    "\n",
    "school_spending_df = per_school_summary.copy()\n"
   ]
  },
  {
   "cell_type": "code",
   "execution_count": null,
   "metadata": {},
   "outputs": [],
   "source": [
    "# Create a new column to define the spending ranges per student\n",
    "\n",
    "\n"
   ]
  },
  {
   "cell_type": "code",
   "execution_count": null,
   "metadata": {},
   "outputs": [],
   "source": [
    "# Calculate the average math score within each spending range\n",
    "\n",
    "\n",
    "\n"
   ]
  },
  {
   "cell_type": "code",
   "execution_count": null,
   "metadata": {},
   "outputs": [],
   "source": [
    "# Calculate the percentage passing rate for math in each spending range\n",
    "\n",
    "\n",
    "\n"
   ]
  },
  {
   "cell_type": "code",
   "execution_count": null,
   "metadata": {},
   "outputs": [],
   "source": [
    "# Calculate the percentage passing rate for reading in each spending range\n",
    "\n",
    "\n"
   ]
  },
  {
   "cell_type": "code",
   "execution_count": null,
   "metadata": {},
   "outputs": [],
   "source": [
    "# Calculate the percentage overall passing rate in each spending range\n",
    "\n",
    "\n"
   ]
  },
  {
   "cell_type": "markdown",
   "metadata": {},
   "source": [
    "### Scores by School Size"
   ]
  },
  {
   "cell_type": "markdown",
   "metadata": {},
   "source": [
    "* Perform the same operations as above, based on school size."
   ]
  },
  {
   "cell_type": "code",
   "execution_count": null,
   "metadata": {},
   "outputs": [],
   "source": [
    "# Sample bins. Feel free to create your own bins.\n",
    "size_bins = [0, 1000, 2000, 5000]\n",
    "group_names = [\"Small (<1000)\", \"Medium (1000-2000)\", \"Large (2000-5000)\"]"
   ]
  },
  {
   "cell_type": "code",
   "execution_count": null,
   "metadata": {
    "scrolled": true
   },
   "outputs": [],
   "source": [
    "# Create a new column for the bin groups\n"
   ]
  },
  {
   "cell_type": "markdown",
   "metadata": {},
   "source": [
    "Look for the total count of test scores that pass 70% or higher\n",
    "\n",
    "\n"
   ]
  },
  {
   "cell_type": "code",
   "execution_count": null,
   "metadata": {},
   "outputs": [],
   "source": [
    "# math_pass_size\n",
    "\n",
    "\n"
   ]
  },
  {
   "cell_type": "code",
   "execution_count": null,
   "metadata": {},
   "outputs": [],
   "source": [
    "# read_pass_size\n",
    "\n",
    "\n"
   ]
  },
  {
   "cell_type": "code",
   "execution_count": null,
   "metadata": {},
   "outputs": [],
   "source": [
    "# Calculate the overall passing rate for different school size\n",
    "\n",
    "\n"
   ]
  },
  {
   "cell_type": "markdown",
   "metadata": {},
   "source": [
    "### Scores by School Type"
   ]
  },
  {
   "cell_type": "markdown",
   "metadata": {},
   "source": [
    "* Perform the same operations as above, based on school type."
   ]
  },
  {
   "cell_type": "code",
   "execution_count": null,
   "metadata": {},
   "outputs": [],
   "source": [
    "# Create bins and groups, school type {'Charter', 'District'}\n",
    "\n",
    "\n"
   ]
  },
  {
   "cell_type": "markdown",
   "metadata": {},
   "source": [
    "Find counts of the passing 70 or higher score for the both test\n"
   ]
  },
  {
   "cell_type": "code",
   "execution_count": null,
   "metadata": {},
   "outputs": [],
   "source": [
    "# math pass size\n",
    "\n",
    "\n"
   ]
  },
  {
   "cell_type": "code",
   "execution_count": null,
   "metadata": {},
   "outputs": [],
   "source": [
    "# reading pass size\n",
    "\n"
   ]
  },
  {
   "cell_type": "code",
   "execution_count": null,
   "metadata": {},
   "outputs": [],
   "source": [
    "# Calculate the overall passing rate\n",
    "\n"
   ]
  }
 ],
 "metadata": {
  "anaconda-cloud": {},
  "kernel_info": {
   "name": "python3"
  },
  "kernelspec": {
   "display_name": "Python 3 (ipykernel)",
   "language": "python",
   "name": "python3"
  },
  "language_info": {
   "codemirror_mode": {
    "name": "ipython",
    "version": 3
   },
   "file_extension": ".py",
   "mimetype": "text/x-python",
   "name": "python",
   "nbconvert_exporter": "python",
   "pygments_lexer": "ipython3",
   "version": "3.12.4"
  },
  "latex_envs": {
   "LaTeX_envs_menu_present": true,
   "autoclose": false,
   "autocomplete": true,
   "bibliofile": "biblio.bib",
   "cite_by": "apalike",
   "current_citInitial": 1,
   "eqLabelWithNumbers": true,
   "eqNumInitial": 1,
   "hotkeys": {
    "equation": "Ctrl-E",
    "itemize": "Ctrl-I"
   },
   "labels_anchors": false,
   "latex_user_defs": false,
   "report_style_numbering": false,
   "user_envs_cfg": false
  },
  "nteract": {
   "version": "0.8.4"
  },
  "toc": {
   "base_numbering": 1,
   "nav_menu": {},
   "number_sections": true,
   "sideBar": true,
   "skip_h1_title": false,
   "title_cell": "Table of Contents",
   "title_sidebar": "Contents",
   "toc_cell": false,
   "toc_position": {},
   "toc_section_display": true,
   "toc_window_display": false
  }
 },
 "nbformat": 4,
 "nbformat_minor": 4
}
